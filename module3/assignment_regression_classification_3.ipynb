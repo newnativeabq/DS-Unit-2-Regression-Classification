{
 "cells": [
  {
   "cell_type": "markdown",
   "metadata": {
    "colab_type": "text",
    "id": "7IXUfiQ2UKj6"
   },
   "source": [
    "Lambda School Data Science, Unit 2: Predictive Modeling\n",
    "\n",
    "# Regression & Classification, Module 3\n",
    "\n",
    "## Assignment\n",
    "\n",
    "We're going back to our other **New York City** real estate dataset. Instead of predicting apartment rents, you'll predict property sales prices.\n",
    "\n",
    "But not just for condos in Tribeca...\n",
    "\n",
    "Instead, predict property sales prices for **One Family Dwellings** (`BUILDING_CLASS_CATEGORY` == `'01 ONE FAMILY DWELLINGS'`) using a subset of the data where the **sale price was more than \\\\$100 thousand and less than $2 million.** \n",
    "\n",
    "The [NYC Department of Finance](https://www1.nyc.gov/site/finance/taxes/property-rolling-sales-data.page) has a glossary of property sales terms and NYC Building Class Code Descriptions. The data comes from the [NYC OpenData](https://data.cityofnewyork.us/browse?q=NYC%20calendar%20sales) portal.\n",
    "\n",
    "\n",
    "- [ ] Do train/test split. Use data from January — March 2019 to train. Use data from April 2019 to test.\n",
    "- [ ] Do exploratory visualizations with Seaborn.\n",
    "- [ ] Do one-hot encoding of categorical features.\n",
    "- [ ] Do feature selection with `SelectKBest`.\n",
    "- [ ] Fit a linear regression model with multiple features.\n",
    "- [ ] Get mean absolute error for the test set.\n",
    "- [ ] As always, commit your notebook to your fork of the GitHub repo.\n",
    "\n",
    "\n",
    "## Stretch Goals\n",
    "- [ ] Add your own stretch goal(s) !\n",
    "- [ ] Do [feature scaling](https://scikit-learn.org/stable/modules/preprocessing.html).\n",
    "- [ ] Learn more about feature selection:\n",
    "    - [\"Permutation importance\"](https://www.kaggle.com/dansbecker/permutation-importance)\n",
    "    - [scikit-learn's User Guide for Feature Selection](https://scikit-learn.org/stable/modules/feature_selection.html)\n",
    "    - [mlxtend](http://rasbt.github.io/mlxtend/) library\n",
    "    - scikit-learn-contrib libraries: [boruta_py](https://github.com/scikit-learn-contrib/boruta_py) & [stability-selection](https://github.com/scikit-learn-contrib/stability-selection)\n",
    "    - [_Feature Engineering and Selection_](http://www.feat.engineering/) by Kuhn & Johnson.\n",
    "- [ ] Try [statsmodels](https://www.statsmodels.org/stable/index.html) if you’re interested in more inferential statistical approach to linear regression and feature selection, looking at p values and 95% confidence intervals for the coefficients.\n",
    "- [ ] Read [_An Introduction to Statistical Learning_](http://faculty.marshall.usc.edu/gareth-james/ISL/ISLR%20Seventh%20Printing.pdf), Chapters 1-3, for more math & theory, but in an accessible, readable way (without an excessive amount of formulas or academic pre-requisites).\n",
    "(That book is good regardless of whether your cultural worldview is inferential statistics or predictive machine learning)\n",
    "- [ ] Read Leo Breiman's paper, [\"Statistical Modeling: The Two Cultures\"](https://projecteuclid.org/download/pdf_1/euclid.ss/1009213726)\n",
    "- [ ] Try [scikit-learn pipelines](https://scikit-learn.org/stable/modules/compose.html):\n",
    "\n",
    "> Pipeline can be used to chain multiple estimators into one. This is useful as there is often a fixed sequence of steps in processing the data, for example feature selection, normalization and classification. Pipeline serves multiple purposes here:\n",
    "\n",
    "> - **Convenience and encapsulation.** You only have to call fit and predict once on your data to fit a whole sequence of estimators.\n",
    "> - **Joint parameter selection.** You can grid search over parameters of all estimators in the pipeline at once.\n",
    "> - **Safety.** Pipelines help avoid leaking statistics from your test data into the trained model in cross-validation, by ensuring that the same samples are used to train the transformers and predictors."
   ]
  },
  {
   "cell_type": "code",
   "execution_count": 1,
   "metadata": {
    "colab": {},
    "colab_type": "code",
    "id": "o9eSnDYhUGD7"
   },
   "outputs": [
    {
     "data": {
      "text/plain": [
       "\"\\n# If you're in Colab...\\nimport os, sys\\nin_colab = 'google.colab' in sys.modules\\n\\nif in_colab:\\n    # Install required python packages:\\n    # category_encoders, version >= 2.0\\n    # pandas-profiling, version >= 2.0\\n    # plotly, version >= 4.0\\n    !pip install --upgrade category_encoders pandas-profiling plotly\\n    \\n    # Pull files from Github repo\\n    os.chdir('/content')\\n    !git init .\\n    !git remote add origin https://github.com/LambdaSchool/DS-Unit-2-Regression-Classification.git\\n    !git pull origin master\\n    \\n    # Change into directory for module\\n    os.chdir('module3')\\n\""
      ]
     },
     "execution_count": 1,
     "metadata": {},
     "output_type": "execute_result"
    }
   ],
   "source": [
    "'''\n",
    "# If you're in Colab...\n",
    "import os, sys\n",
    "in_colab = 'google.colab' in sys.modules\n",
    "\n",
    "if in_colab:\n",
    "    # Install required python packages:\n",
    "    # category_encoders, version >= 2.0\n",
    "    # pandas-profiling, version >= 2.0\n",
    "    # plotly, version >= 4.0\n",
    "    !pip install --upgrade category_encoders pandas-profiling plotly\n",
    "    \n",
    "    # Pull files from Github repo\n",
    "    os.chdir('/content')\n",
    "    !git init .\n",
    "    !git remote add origin https://github.com/LambdaSchool/DS-Unit-2-Regression-Classification.git\n",
    "    !git pull origin master\n",
    "    \n",
    "    # Change into directory for module\n",
    "    os.chdir('module3')\n",
    "'''"
   ]
  },
  {
   "cell_type": "code",
   "execution_count": 2,
   "metadata": {
    "colab": {},
    "colab_type": "code",
    "id": "ipBYS77PUwNR"
   },
   "outputs": [],
   "source": [
    "# Ignore this Numpy warning when using Plotly Express:\n",
    "# FutureWarning: Method .ptp is deprecated and will be removed in a future version. Use numpy.ptp instead.\n",
    "import warnings\n",
    "warnings.filterwarnings(action='ignore', category=FutureWarning, module='numpy')"
   ]
  },
  {
   "cell_type": "code",
   "execution_count": 3,
   "metadata": {
    "colab": {},
    "colab_type": "code",
    "id": "QJBD4ruICm1m"
   },
   "outputs": [],
   "source": [
    "import pandas as pd\n",
    "import pandas_profiling\n",
    "\n",
    "# Read New York City property sales data\n",
    "df = pd.read_csv('../data/NYC_Citywide_Rolling_Calendar_Sales.csv')\n",
    "\n",
    "# Change column names: replace spaces with underscores\n",
    "df.columns = [col.replace(' ', '_') for col in df]\n",
    "\n",
    "# SALE_PRICE was read as strings.\n",
    "# Remove symbols, convert to integer\n",
    "df['SALE_PRICE'] = (\n",
    "    df['SALE_PRICE']\n",
    "    .str.replace('$','')\n",
    "    .str.replace('-','')\n",
    "    .str.replace(',','')\n",
    "    .astype(int)\n",
    ")"
   ]
  },
  {
   "cell_type": "code",
   "execution_count": 4,
   "metadata": {},
   "outputs": [
    {
     "data": {
      "text/plain": [
       "(23040, 21)"
      ]
     },
     "execution_count": 4,
     "metadata": {},
     "output_type": "execute_result"
    }
   ],
   "source": [
    "df.shape"
   ]
  },
  {
   "cell_type": "code",
   "execution_count": 5,
   "metadata": {},
   "outputs": [
    {
     "data": {
      "text/html": [
       "<div>\n",
       "<style scoped>\n",
       "    .dataframe tbody tr th:only-of-type {\n",
       "        vertical-align: middle;\n",
       "    }\n",
       "\n",
       "    .dataframe tbody tr th {\n",
       "        vertical-align: top;\n",
       "    }\n",
       "\n",
       "    .dataframe thead th {\n",
       "        text-align: right;\n",
       "    }\n",
       "</style>\n",
       "<table border=\"1\" class=\"dataframe\">\n",
       "  <thead>\n",
       "    <tr style=\"text-align: right;\">\n",
       "      <th></th>\n",
       "      <th>BOROUGH</th>\n",
       "      <th>NEIGHBORHOOD</th>\n",
       "      <th>BUILDING_CLASS_CATEGORY</th>\n",
       "      <th>TAX_CLASS_AT_PRESENT</th>\n",
       "      <th>BLOCK</th>\n",
       "      <th>LOT</th>\n",
       "      <th>EASE-MENT</th>\n",
       "      <th>BUILDING_CLASS_AT_PRESENT</th>\n",
       "      <th>ADDRESS</th>\n",
       "      <th>APARTMENT_NUMBER</th>\n",
       "      <th>...</th>\n",
       "      <th>RESIDENTIAL_UNITS</th>\n",
       "      <th>COMMERCIAL_UNITS</th>\n",
       "      <th>TOTAL_UNITS</th>\n",
       "      <th>LAND_SQUARE_FEET</th>\n",
       "      <th>GROSS_SQUARE_FEET</th>\n",
       "      <th>YEAR_BUILT</th>\n",
       "      <th>TAX_CLASS_AT_TIME_OF_SALE</th>\n",
       "      <th>BUILDING_CLASS_AT_TIME_OF_SALE</th>\n",
       "      <th>SALE_PRICE</th>\n",
       "      <th>SALE_DATE</th>\n",
       "    </tr>\n",
       "  </thead>\n",
       "  <tbody>\n",
       "    <tr>\n",
       "      <th>0</th>\n",
       "      <td>1</td>\n",
       "      <td>CHELSEA</td>\n",
       "      <td>13 CONDOS - ELEVATOR APARTMENTS</td>\n",
       "      <td>2</td>\n",
       "      <td>716</td>\n",
       "      <td>1246</td>\n",
       "      <td>NaN</td>\n",
       "      <td>R4</td>\n",
       "      <td>447 WEST 18TH STREET, PH12A</td>\n",
       "      <td>PH12A</td>\n",
       "      <td>...</td>\n",
       "      <td>1.0</td>\n",
       "      <td>0.0</td>\n",
       "      <td>1.0</td>\n",
       "      <td>10,733</td>\n",
       "      <td>1979.0</td>\n",
       "      <td>2007.0</td>\n",
       "      <td>2</td>\n",
       "      <td>R4</td>\n",
       "      <td>0</td>\n",
       "      <td>01/01/2019</td>\n",
       "    </tr>\n",
       "    <tr>\n",
       "      <th>1</th>\n",
       "      <td>1</td>\n",
       "      <td>FASHION</td>\n",
       "      <td>21 OFFICE BUILDINGS</td>\n",
       "      <td>4</td>\n",
       "      <td>812</td>\n",
       "      <td>68</td>\n",
       "      <td>NaN</td>\n",
       "      <td>O5</td>\n",
       "      <td>144 WEST 37TH STREET</td>\n",
       "      <td>NaN</td>\n",
       "      <td>...</td>\n",
       "      <td>0.0</td>\n",
       "      <td>6.0</td>\n",
       "      <td>6.0</td>\n",
       "      <td>2,962</td>\n",
       "      <td>15435.0</td>\n",
       "      <td>1920.0</td>\n",
       "      <td>4</td>\n",
       "      <td>O5</td>\n",
       "      <td>0</td>\n",
       "      <td>01/01/2019</td>\n",
       "    </tr>\n",
       "    <tr>\n",
       "      <th>2</th>\n",
       "      <td>1</td>\n",
       "      <td>FASHION</td>\n",
       "      <td>21 OFFICE BUILDINGS</td>\n",
       "      <td>4</td>\n",
       "      <td>839</td>\n",
       "      <td>69</td>\n",
       "      <td>NaN</td>\n",
       "      <td>O5</td>\n",
       "      <td>40 WEST 38TH STREET</td>\n",
       "      <td>NaN</td>\n",
       "      <td>...</td>\n",
       "      <td>0.0</td>\n",
       "      <td>7.0</td>\n",
       "      <td>7.0</td>\n",
       "      <td>2,074</td>\n",
       "      <td>11332.0</td>\n",
       "      <td>1930.0</td>\n",
       "      <td>4</td>\n",
       "      <td>O5</td>\n",
       "      <td>0</td>\n",
       "      <td>01/01/2019</td>\n",
       "    </tr>\n",
       "    <tr>\n",
       "      <th>3</th>\n",
       "      <td>1</td>\n",
       "      <td>GREENWICH VILLAGE-WEST</td>\n",
       "      <td>13 CONDOS - ELEVATOR APARTMENTS</td>\n",
       "      <td>2</td>\n",
       "      <td>592</td>\n",
       "      <td>1041</td>\n",
       "      <td>NaN</td>\n",
       "      <td>R4</td>\n",
       "      <td>1 SHERIDAN SQUARE, 8C</td>\n",
       "      <td>8C</td>\n",
       "      <td>...</td>\n",
       "      <td>1.0</td>\n",
       "      <td>0.0</td>\n",
       "      <td>1.0</td>\n",
       "      <td>0</td>\n",
       "      <td>500.0</td>\n",
       "      <td>0.0</td>\n",
       "      <td>2</td>\n",
       "      <td>R4</td>\n",
       "      <td>0</td>\n",
       "      <td>01/01/2019</td>\n",
       "    </tr>\n",
       "    <tr>\n",
       "      <th>4</th>\n",
       "      <td>1</td>\n",
       "      <td>UPPER EAST SIDE (59-79)</td>\n",
       "      <td>15 CONDOS - 2-10 UNIT RESIDENTIAL</td>\n",
       "      <td>2C</td>\n",
       "      <td>1379</td>\n",
       "      <td>1402</td>\n",
       "      <td>NaN</td>\n",
       "      <td>R1</td>\n",
       "      <td>20 EAST 65TH STREET, B</td>\n",
       "      <td>B</td>\n",
       "      <td>...</td>\n",
       "      <td>1.0</td>\n",
       "      <td>0.0</td>\n",
       "      <td>1.0</td>\n",
       "      <td>0</td>\n",
       "      <td>6406.0</td>\n",
       "      <td>0.0</td>\n",
       "      <td>2</td>\n",
       "      <td>R1</td>\n",
       "      <td>0</td>\n",
       "      <td>01/01/2019</td>\n",
       "    </tr>\n",
       "  </tbody>\n",
       "</table>\n",
       "<p>5 rows × 21 columns</p>\n",
       "</div>"
      ],
      "text/plain": [
       "   BOROUGH             NEIGHBORHOOD            BUILDING_CLASS_CATEGORY  \\\n",
       "0        1                  CHELSEA    13 CONDOS - ELEVATOR APARTMENTS   \n",
       "1        1                  FASHION                21 OFFICE BUILDINGS   \n",
       "2        1                  FASHION                21 OFFICE BUILDINGS   \n",
       "3        1   GREENWICH VILLAGE-WEST    13 CONDOS - ELEVATOR APARTMENTS   \n",
       "4        1  UPPER EAST SIDE (59-79)  15 CONDOS - 2-10 UNIT RESIDENTIAL   \n",
       "\n",
       "  TAX_CLASS_AT_PRESENT  BLOCK   LOT  EASE-MENT BUILDING_CLASS_AT_PRESENT  \\\n",
       "0                    2    716  1246        NaN                        R4   \n",
       "1                    4    812    68        NaN                        O5   \n",
       "2                    4    839    69        NaN                        O5   \n",
       "3                    2    592  1041        NaN                        R4   \n",
       "4                   2C   1379  1402        NaN                        R1   \n",
       "\n",
       "                       ADDRESS APARTMENT_NUMBER  ...  RESIDENTIAL_UNITS  \\\n",
       "0  447 WEST 18TH STREET, PH12A            PH12A  ...                1.0   \n",
       "1         144 WEST 37TH STREET              NaN  ...                0.0   \n",
       "2          40 WEST 38TH STREET              NaN  ...                0.0   \n",
       "3        1 SHERIDAN SQUARE, 8C               8C  ...                1.0   \n",
       "4       20 EAST 65TH STREET, B                B  ...                1.0   \n",
       "\n",
       "   COMMERCIAL_UNITS  TOTAL_UNITS  LAND_SQUARE_FEET GROSS_SQUARE_FEET  \\\n",
       "0               0.0          1.0            10,733            1979.0   \n",
       "1               6.0          6.0             2,962           15435.0   \n",
       "2               7.0          7.0             2,074           11332.0   \n",
       "3               0.0          1.0                 0             500.0   \n",
       "4               0.0          1.0                 0            6406.0   \n",
       "\n",
       "   YEAR_BUILT  TAX_CLASS_AT_TIME_OF_SALE  BUILDING_CLASS_AT_TIME_OF_SALE  \\\n",
       "0      2007.0                          2                              R4   \n",
       "1      1920.0                          4                              O5   \n",
       "2      1930.0                          4                              O5   \n",
       "3         0.0                          2                              R4   \n",
       "4         0.0                          2                              R1   \n",
       "\n",
       "  SALE_PRICE   SALE_DATE  \n",
       "0          0  01/01/2019  \n",
       "1          0  01/01/2019  \n",
       "2          0  01/01/2019  \n",
       "3          0  01/01/2019  \n",
       "4          0  01/01/2019  \n",
       "\n",
       "[5 rows x 21 columns]"
      ]
     },
     "execution_count": 5,
     "metadata": {},
     "output_type": "execute_result"
    }
   ],
   "source": [
    "df.head()"
   ]
  },
  {
   "cell_type": "code",
   "execution_count": 6,
   "metadata": {},
   "outputs": [
    {
     "data": {
      "text/plain": [
       "BOROUGH                             int64\n",
       "NEIGHBORHOOD                       object\n",
       "BUILDING_CLASS_CATEGORY            object\n",
       "TAX_CLASS_AT_PRESENT               object\n",
       "BLOCK                               int64\n",
       "LOT                                 int64\n",
       "EASE-MENT                         float64\n",
       "BUILDING_CLASS_AT_PRESENT          object\n",
       "ADDRESS                            object\n",
       "APARTMENT_NUMBER                   object\n",
       "ZIP_CODE                          float64\n",
       "RESIDENTIAL_UNITS                 float64\n",
       "COMMERCIAL_UNITS                  float64\n",
       "TOTAL_UNITS                       float64\n",
       "LAND_SQUARE_FEET                   object\n",
       "GROSS_SQUARE_FEET                 float64\n",
       "YEAR_BUILT                        float64\n",
       "TAX_CLASS_AT_TIME_OF_SALE           int64\n",
       "BUILDING_CLASS_AT_TIME_OF_SALE     object\n",
       "SALE_PRICE                          int32\n",
       "SALE_DATE                          object\n",
       "dtype: object"
      ]
     },
     "execution_count": 6,
     "metadata": {},
     "output_type": "execute_result"
    }
   ],
   "source": [
    "df.dtypes"
   ]
  },
  {
   "cell_type": "code",
   "execution_count": 7,
   "metadata": {},
   "outputs": [
    {
     "data": {
      "text/plain": [
       "BOROUGH                               0\n",
       "NEIGHBORHOOD                          0\n",
       "BUILDING_CLASS_CATEGORY               0\n",
       "TAX_CLASS_AT_PRESENT                  1\n",
       "BLOCK                                 0\n",
       "LOT                                   0\n",
       "EASE-MENT                         23040\n",
       "BUILDING_CLASS_AT_PRESENT             1\n",
       "ADDRESS                               0\n",
       "APARTMENT_NUMBER                  17839\n",
       "ZIP_CODE                              1\n",
       "RESIDENTIAL_UNITS                     1\n",
       "COMMERCIAL_UNITS                      1\n",
       "TOTAL_UNITS                           1\n",
       "LAND_SQUARE_FEET                     53\n",
       "GROSS_SQUARE_FEET                     1\n",
       "YEAR_BUILT                           35\n",
       "TAX_CLASS_AT_TIME_OF_SALE             0\n",
       "BUILDING_CLASS_AT_TIME_OF_SALE        0\n",
       "SALE_PRICE                            0\n",
       "SALE_DATE                             0\n",
       "dtype: int64"
      ]
     },
     "execution_count": 7,
     "metadata": {},
     "output_type": "execute_result"
    }
   ],
   "source": [
    "df.isna().sum()"
   ]
  },
  {
   "cell_type": "code",
   "execution_count": 8,
   "metadata": {},
   "outputs": [],
   "source": [
    "drop_list = [\n",
    "    'APARTMENT_NUMBER',\n",
    "    'EASE-MENT',\n",
    "    'ADDRESS'\n",
    "]\n",
    "df = df.drop(columns=drop_list)"
   ]
  },
  {
   "cell_type": "code",
   "execution_count": 9,
   "metadata": {},
   "outputs": [],
   "source": [
    "dfa = df[df.BUILDING_CLASS_CATEGORY == '01 ONE FAMILY DWELLINGS'].copy()"
   ]
  },
  {
   "cell_type": "code",
   "execution_count": 10,
   "metadata": {},
   "outputs": [
    {
     "data": {
      "text/plain": [
       "NEIGHBORHOOD                      213\n",
       "BUILDING_CLASS_CATEGORY             1\n",
       "TAX_CLASS_AT_PRESENT                3\n",
       "BUILDING_CLASS_AT_PRESENT          16\n",
       "BUILDING_CLASS_AT_TIME_OF_SALE     12\n",
       "dtype: int64"
      ]
     },
     "execution_count": 10,
     "metadata": {},
     "output_type": "execute_result"
    }
   ],
   "source": [
    "# Investigate opportunities for encoding\n",
    "potential_cats = [\n",
    "    'NEIGHBORHOOD',\n",
    "    'BUILDING_CLASS_CATEGORY',\n",
    "    'TAX_CLASS_AT_PRESENT',\n",
    "    'BUILDING_CLASS_AT_PRESENT', \n",
    "    'BUILDING_CLASS_AT_TIME_OF_SALE',\n",
    "]\n",
    "dfa[potential_cats].nunique()"
   ]
  },
  {
   "cell_type": "code",
   "execution_count": 11,
   "metadata": {},
   "outputs": [
    {
     "data": {
      "text/plain": [
       "NEIGHBORHOOD                      0\n",
       "BUILDING_CLASS_CATEGORY           0\n",
       "TAX_CLASS_AT_PRESENT              0\n",
       "BUILDING_CLASS_AT_PRESENT         0\n",
       "BUILDING_CLASS_AT_TIME_OF_SALE    0\n",
       "dtype: int64"
      ]
     },
     "execution_count": 11,
     "metadata": {},
     "output_type": "execute_result"
    }
   ],
   "source": [
    "dfa[potential_cats].isna().sum()"
   ]
  },
  {
   "cell_type": "code",
   "execution_count": 12,
   "metadata": {},
   "outputs": [
    {
     "data": {
      "text/plain": [
       "NEIGHBORHOOD                      0\n",
       "BUILDING_CLASS_CATEGORY           0\n",
       "TAX_CLASS_AT_PRESENT              0\n",
       "BUILDING_CLASS_AT_PRESENT         0\n",
       "BUILDING_CLASS_AT_TIME_OF_SALE    0\n",
       "dtype: int64"
      ]
     },
     "execution_count": 12,
     "metadata": {},
     "output_type": "execute_result"
    }
   ],
   "source": [
    "# drop nan values within the category class\n",
    "drop_list = [\n",
    "    22943,    \n",
    "]\n",
    "#dfa = dfa.drop(drop_list)\n",
    "dfa[potential_cats].isna().sum()"
   ]
  },
  {
   "cell_type": "code",
   "execution_count": 13,
   "metadata": {},
   "outputs": [
    {
     "data": {
      "text/plain": [
       "(5061, 5)"
      ]
     },
     "execution_count": 13,
     "metadata": {},
     "output_type": "execute_result"
    }
   ],
   "source": [
    "dfa[potential_cats].shape"
   ]
  },
  {
   "cell_type": "code",
   "execution_count": 14,
   "metadata": {},
   "outputs": [
    {
     "data": {
      "text/plain": [
       "7     MORRIS PARK/VAN NEST\n",
       "8     MORRIS PARK/VAN NEST\n",
       "9     MORRIS PARK/VAN NEST\n",
       "42                 MADISON\n",
       "44     OCEAN PARKWAY-NORTH\n",
       "48                 BAYSIDE\n",
       "55          MIDDLE VILLAGE\n",
       "61          QUEENS VILLAGE\n",
       "63           SOUTH JAMAICA\n",
       "78    PELHAM PARKWAY SOUTH\n",
       "Name: NEIGHBORHOOD, dtype: object"
      ]
     },
     "execution_count": 14,
     "metadata": {},
     "output_type": "execute_result"
    }
   ],
   "source": [
    "dfa.NEIGHBORHOOD[0:10]"
   ]
  },
  {
   "cell_type": "code",
   "execution_count": 15,
   "metadata": {},
   "outputs": [
    {
     "data": {
      "text/plain": [
       "(5061, 13)"
      ]
     },
     "execution_count": 15,
     "metadata": {},
     "output_type": "execute_result"
    }
   ],
   "source": [
    "# All seem good to encode.  Note: sklearn's OneHotEncoder will return a sparse matrix that can't be used directly.\n",
    "# pd.get_dummies...\n",
    "\n",
    "hot_encoded_cats = pd.get_dummies(dfa[potential_cats],)\n",
    "dfa = dfa.drop(columns=potential_cats)\n",
    "dfa.shape"
   ]
  },
  {
   "cell_type": "code",
   "execution_count": 16,
   "metadata": {},
   "outputs": [
    {
     "data": {
      "text/plain": [
       "(5061, 258)"
      ]
     },
     "execution_count": 16,
     "metadata": {},
     "output_type": "execute_result"
    }
   ],
   "source": [
    "dfa = dfa.join(hot_encoded_cats)\n",
    "dfa.shape"
   ]
  },
  {
   "cell_type": "code",
   "execution_count": 17,
   "metadata": {},
   "outputs": [],
   "source": [
    "# Encode sales date as date_time\n",
    "dfa['SALE_DATE'] = pd.to_datetime(df['SALE_DATE'])"
   ]
  },
  {
   "cell_type": "code",
   "execution_count": 18,
   "metadata": {},
   "outputs": [
    {
     "data": {
      "image/png": "[encoded data removed]",
      "text/plain": [
       "<Figure size 432x288 with 1 Axes>"
      ]
     },
     "metadata": {
      "needs_background": "light"
     },
     "output_type": "display_data"
    }
   ],
   "source": [
    "# Quick look at price\n",
    "import matplotlib.pyplot as plt\n",
    "import seaborn as sns\n",
    "\n",
    "fig, ax = plt.subplots()\n",
    "ax = sns.kdeplot(df.SALE_PRICE)"
   ]
  },
  {
   "cell_type": "code",
   "execution_count": 19,
   "metadata": {},
   "outputs": [
    {
     "data": {
      "text/plain": [
       "count    5.061000e+03\n",
       "mean     4.718425e+05\n",
       "std      9.288682e+05\n",
       "min      0.000000e+00\n",
       "25%      0.000000e+00\n",
       "50%      4.280000e+05\n",
       "75%      6.400000e+05\n",
       "max      3.013936e+07\n",
       "Name: SALE_PRICE, dtype: float64"
      ]
     },
     "execution_count": 19,
     "metadata": {},
     "output_type": "execute_result"
    }
   ],
   "source": [
    "# Something is wrong with price.  It being high at zero doesn't make a lot of sense unless the home hasn't sold.\n",
    "dfa.SALE_PRICE.describe()"
   ]
  },
  {
   "cell_type": "code",
   "execution_count": 20,
   "metadata": {},
   "outputs": [
    {
     "data": {
      "text/plain": [
       "0.0"
      ]
     },
     "metadata": {},
     "output_type": "display_data"
    },
    {
     "data": {
      "text/plain": [
       "1165000.0"
      ]
     },
     "metadata": {},
     "output_type": "display_data"
    },
    {
     "data": {
      "text/plain": [
       "253"
      ]
     },
     "execution_count": 20,
     "metadata": {},
     "output_type": "execute_result"
    }
   ],
   "source": [
    "# 850 million seems a bit nuts.  So does zero.  Let's look at 1% low and 99% highs\n",
    "from IPython.display import display\n",
    "display(dfa.SALE_PRICE.quantile(0.30), dfa.SALE_PRICE.quantile(0.95))\n",
    "dfa[\n",
    "    (dfa.SALE_PRICE < dfa.SALE_PRICE.quantile(0.05)) |\n",
    "    (dfa.SALE_PRICE > dfa.SALE_PRICE.quantile(0.95))\n",
    "].SALE_PRICE.count()"
   ]
  },
  {
   "cell_type": "code",
   "execution_count": 21,
   "metadata": {},
   "outputs": [
    {
     "data": {
      "text/plain": [
       "1681"
      ]
     },
     "execution_count": 21,
     "metadata": {},
     "output_type": "execute_result"
    }
   ],
   "source": [
    "# Dropping 7,140 datapoints is a bit much, almost a third of the data or potentially half of the training set.  The zeroes can definitely become NaNs.\n",
    "dfa.query('SALE_PRICE == 0').SALE_DATE.count()"
   ]
  },
  {
   "cell_type": "code",
   "execution_count": 22,
   "metadata": {},
   "outputs": [],
   "source": [
    "# Well, that's interesting.  I'm not sure there's too much point at this time keeping the data for the 0.00 homes around.\n",
    "# Per instructions, we can cull a lot of data\n",
    "dfa = dfa.query('SALE_PRICE > 100000')\n",
    "dfa = dfa.query('SALE_PRICE < 2000000')"
   ]
  },
  {
   "cell_type": "code",
   "execution_count": 23,
   "metadata": {},
   "outputs": [
    {
     "data": {
      "text/plain": [
       "(3151, 258)"
      ]
     },
     "execution_count": 23,
     "metadata": {},
     "output_type": "execute_result"
    }
   ],
   "source": [
    "dfa.shape"
   ]
  },
  {
   "cell_type": "code",
   "execution_count": 24,
   "metadata": {},
   "outputs": [
    {
     "data": {
      "image/png": "[encoded data removed]",
      "text/plain": [
       "<Figure size 432x288 with 1 Axes>"
      ]
     },
     "metadata": {
      "needs_background": "light"
     },
     "output_type": "display_data"
    },
    {
     "data": {
      "text/plain": [
       "count    3.151000e+03\n",
       "mean     6.285601e+05\n",
       "std      2.929904e+05\n",
       "min      1.040000e+05\n",
       "25%      4.475000e+05\n",
       "50%      5.680000e+05\n",
       "75%      7.600000e+05\n",
       "max      1.955000e+06\n",
       "Name: SALE_PRICE, dtype: float64"
      ]
     },
     "execution_count": 24,
     "metadata": {},
     "output_type": "execute_result"
    }
   ],
   "source": [
    "# Run the kernel density plot one more time\n",
    "fig, ax = plt.subplots()\n",
    "ax = sns.kdeplot(dfa.SALE_PRICE)\n",
    "plt.show()\n",
    "\n",
    "dfa.SALE_PRICE.describe()"
   ]
  },
  {
   "cell_type": "code",
   "execution_count": 25,
   "metadata": {},
   "outputs": [
    {
     "data": {
      "text/html": [
       "<div>\n",
       "<style scoped>\n",
       "    .dataframe tbody tr th:only-of-type {\n",
       "        vertical-align: middle;\n",
       "    }\n",
       "\n",
       "    .dataframe tbody tr th {\n",
       "        vertical-align: top;\n",
       "    }\n",
       "\n",
       "    .dataframe thead th {\n",
       "        text-align: right;\n",
       "    }\n",
       "</style>\n",
       "<table border=\"1\" class=\"dataframe\">\n",
       "  <thead>\n",
       "    <tr style=\"text-align: right;\">\n",
       "      <th></th>\n",
       "      <th>LAND_SQUARE_FEET</th>\n",
       "      <th>SALE_DATE</th>\n",
       "    </tr>\n",
       "  </thead>\n",
       "  <tbody>\n",
       "    <tr>\n",
       "      <th>count</th>\n",
       "      <td>3151</td>\n",
       "      <td>3151</td>\n",
       "    </tr>\n",
       "    <tr>\n",
       "      <th>unique</th>\n",
       "      <td>1035</td>\n",
       "      <td>91</td>\n",
       "    </tr>\n",
       "    <tr>\n",
       "      <th>top</th>\n",
       "      <td>4,000</td>\n",
       "      <td>2019-01-31 00:00:00</td>\n",
       "    </tr>\n",
       "    <tr>\n",
       "      <th>freq</th>\n",
       "      <td>289</td>\n",
       "      <td>78</td>\n",
       "    </tr>\n",
       "    <tr>\n",
       "      <th>first</th>\n",
       "      <td>NaN</td>\n",
       "      <td>2019-01-01 00:00:00</td>\n",
       "    </tr>\n",
       "    <tr>\n",
       "      <th>last</th>\n",
       "      <td>NaN</td>\n",
       "      <td>2019-04-30 00:00:00</td>\n",
       "    </tr>\n",
       "  </tbody>\n",
       "</table>\n",
       "</div>"
      ],
      "text/plain": [
       "       LAND_SQUARE_FEET            SALE_DATE\n",
       "count              3151                 3151\n",
       "unique             1035                   91\n",
       "top               4,000  2019-01-31 00:00:00\n",
       "freq                289                   78\n",
       "first               NaN  2019-01-01 00:00:00\n",
       "last                NaN  2019-04-30 00:00:00"
      ]
     },
     "execution_count": 25,
     "metadata": {},
     "output_type": "execute_result"
    }
   ],
   "source": [
    "import numpy as np\n",
    "dfa.describe(exclude=np.number)"
   ]
  },
  {
   "cell_type": "code",
   "execution_count": 26,
   "metadata": {},
   "outputs": [],
   "source": [
    "# Need to transform LAND_SQUARE_FEET to int\n",
    "dfa['LAND_SQUARE_FEET'] = dfa.LAND_SQUARE_FEET.str.replace(',','').astype(int)"
   ]
  },
  {
   "cell_type": "code",
   "execution_count": 27,
   "metadata": {},
   "outputs": [
    {
     "data": {
      "text/plain": [
       "count     3151.000000\n",
       "mean      3112.117423\n",
       "std       1790.055434\n",
       "min          0.000000\n",
       "25%       2000.000000\n",
       "50%       2542.000000\n",
       "75%       4000.000000\n",
       "max      18906.000000\n",
       "Name: LAND_SQUARE_FEET, dtype: float64"
      ]
     },
     "execution_count": 27,
     "metadata": {},
     "output_type": "execute_result"
    }
   ],
   "source": [
    "dfa.LAND_SQUARE_FEET.describe()"
   ]
  },
  {
   "cell_type": "code",
   "execution_count": 28,
   "metadata": {},
   "outputs": [
    {
     "data": {
      "text/html": [
       "<div>\n",
       "<style scoped>\n",
       "    .dataframe tbody tr th:only-of-type {\n",
       "        vertical-align: middle;\n",
       "    }\n",
       "\n",
       "    .dataframe tbody tr th {\n",
       "        vertical-align: top;\n",
       "    }\n",
       "\n",
       "    .dataframe thead th {\n",
       "        text-align: right;\n",
       "    }\n",
       "</style>\n",
       "<table border=\"1\" class=\"dataframe\">\n",
       "  <thead>\n",
       "    <tr style=\"text-align: right;\">\n",
       "      <th></th>\n",
       "      <th>BOROUGH</th>\n",
       "      <th>BLOCK</th>\n",
       "      <th>LOT</th>\n",
       "      <th>ZIP_CODE</th>\n",
       "      <th>RESIDENTIAL_UNITS</th>\n",
       "      <th>COMMERCIAL_UNITS</th>\n",
       "      <th>TOTAL_UNITS</th>\n",
       "      <th>LAND_SQUARE_FEET</th>\n",
       "      <th>GROSS_SQUARE_FEET</th>\n",
       "      <th>YEAR_BUILT</th>\n",
       "      <th>...</th>\n",
       "      <th>BUILDING_CLASS_AT_TIME_OF_SALE_A2</th>\n",
       "      <th>BUILDING_CLASS_AT_TIME_OF_SALE_A3</th>\n",
       "      <th>BUILDING_CLASS_AT_TIME_OF_SALE_A4</th>\n",
       "      <th>BUILDING_CLASS_AT_TIME_OF_SALE_A5</th>\n",
       "      <th>BUILDING_CLASS_AT_TIME_OF_SALE_A6</th>\n",
       "      <th>BUILDING_CLASS_AT_TIME_OF_SALE_A7</th>\n",
       "      <th>BUILDING_CLASS_AT_TIME_OF_SALE_A8</th>\n",
       "      <th>BUILDING_CLASS_AT_TIME_OF_SALE_A9</th>\n",
       "      <th>BUILDING_CLASS_AT_TIME_OF_SALE_S0</th>\n",
       "      <th>BUILDING_CLASS_AT_TIME_OF_SALE_S1</th>\n",
       "    </tr>\n",
       "  </thead>\n",
       "  <tbody>\n",
       "    <tr>\n",
       "      <th>1135</th>\n",
       "      <td>4</td>\n",
       "      <td>16340</td>\n",
       "      <td>50</td>\n",
       "      <td>11697.0</td>\n",
       "      <td>0.0</td>\n",
       "      <td>0.0</td>\n",
       "      <td>0.0</td>\n",
       "      <td>0</td>\n",
       "      <td>0.0</td>\n",
       "      <td>1938.0</td>\n",
       "      <td>...</td>\n",
       "      <td>0</td>\n",
       "      <td>0</td>\n",
       "      <td>0</td>\n",
       "      <td>0</td>\n",
       "      <td>0</td>\n",
       "      <td>0</td>\n",
       "      <td>1</td>\n",
       "      <td>0</td>\n",
       "      <td>0</td>\n",
       "      <td>0</td>\n",
       "    </tr>\n",
       "    <tr>\n",
       "      <th>1403</th>\n",
       "      <td>4</td>\n",
       "      <td>16340</td>\n",
       "      <td>50</td>\n",
       "      <td>11697.0</td>\n",
       "      <td>0.0</td>\n",
       "      <td>0.0</td>\n",
       "      <td>0.0</td>\n",
       "      <td>0</td>\n",
       "      <td>0.0</td>\n",
       "      <td>1938.0</td>\n",
       "      <td>...</td>\n",
       "      <td>0</td>\n",
       "      <td>0</td>\n",
       "      <td>0</td>\n",
       "      <td>0</td>\n",
       "      <td>0</td>\n",
       "      <td>0</td>\n",
       "      <td>1</td>\n",
       "      <td>0</td>\n",
       "      <td>0</td>\n",
       "      <td>0</td>\n",
       "    </tr>\n",
       "    <tr>\n",
       "      <th>1990</th>\n",
       "      <td>4</td>\n",
       "      <td>16340</td>\n",
       "      <td>50</td>\n",
       "      <td>11697.0</td>\n",
       "      <td>0.0</td>\n",
       "      <td>0.0</td>\n",
       "      <td>0.0</td>\n",
       "      <td>0</td>\n",
       "      <td>0.0</td>\n",
       "      <td>1938.0</td>\n",
       "      <td>...</td>\n",
       "      <td>0</td>\n",
       "      <td>0</td>\n",
       "      <td>0</td>\n",
       "      <td>0</td>\n",
       "      <td>0</td>\n",
       "      <td>0</td>\n",
       "      <td>1</td>\n",
       "      <td>0</td>\n",
       "      <td>0</td>\n",
       "      <td>0</td>\n",
       "    </tr>\n",
       "    <tr>\n",
       "      <th>1991</th>\n",
       "      <td>4</td>\n",
       "      <td>16350</td>\n",
       "      <td>400</td>\n",
       "      <td>11697.0</td>\n",
       "      <td>0.0</td>\n",
       "      <td>0.0</td>\n",
       "      <td>0.0</td>\n",
       "      <td>0</td>\n",
       "      <td>0.0</td>\n",
       "      <td>1938.0</td>\n",
       "      <td>...</td>\n",
       "      <td>0</td>\n",
       "      <td>0</td>\n",
       "      <td>0</td>\n",
       "      <td>0</td>\n",
       "      <td>0</td>\n",
       "      <td>0</td>\n",
       "      <td>1</td>\n",
       "      <td>0</td>\n",
       "      <td>0</td>\n",
       "      <td>0</td>\n",
       "    </tr>\n",
       "    <tr>\n",
       "      <th>2469</th>\n",
       "      <td>2</td>\n",
       "      <td>5507</td>\n",
       "      <td>1</td>\n",
       "      <td>10465.0</td>\n",
       "      <td>0.0</td>\n",
       "      <td>0.0</td>\n",
       "      <td>0.0</td>\n",
       "      <td>0</td>\n",
       "      <td>0.0</td>\n",
       "      <td>1921.0</td>\n",
       "      <td>...</td>\n",
       "      <td>0</td>\n",
       "      <td>0</td>\n",
       "      <td>0</td>\n",
       "      <td>0</td>\n",
       "      <td>0</td>\n",
       "      <td>0</td>\n",
       "      <td>1</td>\n",
       "      <td>0</td>\n",
       "      <td>0</td>\n",
       "      <td>0</td>\n",
       "    </tr>\n",
       "  </tbody>\n",
       "</table>\n",
       "<p>5 rows × 258 columns</p>\n",
       "</div>"
      ],
      "text/plain": [
       "      BOROUGH  BLOCK  LOT  ZIP_CODE  RESIDENTIAL_UNITS  COMMERCIAL_UNITS  \\\n",
       "1135        4  16340   50   11697.0                0.0               0.0   \n",
       "1403        4  16340   50   11697.0                0.0               0.0   \n",
       "1990        4  16340   50   11697.0                0.0               0.0   \n",
       "1991        4  16350  400   11697.0                0.0               0.0   \n",
       "2469        2   5507    1   10465.0                0.0               0.0   \n",
       "\n",
       "      TOTAL_UNITS  LAND_SQUARE_FEET  GROSS_SQUARE_FEET  YEAR_BUILT  ...  \\\n",
       "1135          0.0                 0                0.0      1938.0  ...   \n",
       "1403          0.0                 0                0.0      1938.0  ...   \n",
       "1990          0.0                 0                0.0      1938.0  ...   \n",
       "1991          0.0                 0                0.0      1938.0  ...   \n",
       "2469          0.0                 0                0.0      1921.0  ...   \n",
       "\n",
       "      BUILDING_CLASS_AT_TIME_OF_SALE_A2  BUILDING_CLASS_AT_TIME_OF_SALE_A3  \\\n",
       "1135                                  0                                  0   \n",
       "1403                                  0                                  0   \n",
       "1990                                  0                                  0   \n",
       "1991                                  0                                  0   \n",
       "2469                                  0                                  0   \n",
       "\n",
       "     BUILDING_CLASS_AT_TIME_OF_SALE_A4  BUILDING_CLASS_AT_TIME_OF_SALE_A5  \\\n",
       "1135                                 0                                  0   \n",
       "1403                                 0                                  0   \n",
       "1990                                 0                                  0   \n",
       "1991                                 0                                  0   \n",
       "2469                                 0                                  0   \n",
       "\n",
       "      BUILDING_CLASS_AT_TIME_OF_SALE_A6  BUILDING_CLASS_AT_TIME_OF_SALE_A7  \\\n",
       "1135                                  0                                  0   \n",
       "1403                                  0                                  0   \n",
       "1990                                  0                                  0   \n",
       "1991                                  0                                  0   \n",
       "2469                                  0                                  0   \n",
       "\n",
       "      BUILDING_CLASS_AT_TIME_OF_SALE_A8  BUILDING_CLASS_AT_TIME_OF_SALE_A9  \\\n",
       "1135                                  1                                  0   \n",
       "1403                                  1                                  0   \n",
       "1990                                  1                                  0   \n",
       "1991                                  1                                  0   \n",
       "2469                                  1                                  0   \n",
       "\n",
       "      BUILDING_CLASS_AT_TIME_OF_SALE_S0  BUILDING_CLASS_AT_TIME_OF_SALE_S1  \n",
       "1135                                  0                                  0  \n",
       "1403                                  0                                  0  \n",
       "1990                                  0                                  0  \n",
       "1991                                  0                                  0  \n",
       "2469                                  0                                  0  \n",
       "\n",
       "[5 rows x 258 columns]"
      ]
     },
     "execution_count": 28,
     "metadata": {},
     "output_type": "execute_result"
    }
   ],
   "source": [
    "# Quick investigation of zero land squre feet\n",
    "dfa.query('LAND_SQUARE_FEET == 0').head()"
   ]
  },
  {
   "cell_type": "code",
   "execution_count": 29,
   "metadata": {},
   "outputs": [
    {
     "data": {
      "text/plain": [
       "(3111, 258)"
      ]
     },
     "execution_count": 29,
     "metadata": {},
     "output_type": "execute_result"
    }
   ],
   "source": [
    "# Not sure what's going on with these, but I'd rather not try to impute either missing values or find out why they are 0.\n",
    "dfa = dfa.query('LAND_SQUARE_FEET > 0')\n",
    "dfa.shape"
   ]
  },
  {
   "cell_type": "code",
   "execution_count": 30,
   "metadata": {},
   "outputs": [
    {
     "data": {
      "text/plain": [
       "<matplotlib.axes._subplots.AxesSubplot at 0x23ddcfe1668>"
      ]
     },
     "execution_count": 30,
     "metadata": {},
     "output_type": "execute_result"
    },
    {
     "data": {
      "image/png": "[encoded data removed]",
      "text/plain": [
       "<Figure size 432x288 with 1 Axes>"
      ]
     },
     "metadata": {
      "needs_background": "light"
     },
     "output_type": "display_data"
    }
   ],
   "source": [
    "# SALES_DATE might be an important feature. Let's take a quick look, because I want to drop it rather than try to encode to numeric\n",
    "sns.scatterplot(x=dfa.SALE_DATE.dt.month, y='SALE_PRICE', data=dfa)"
   ]
  },
  {
   "cell_type": "markdown",
   "metadata": {},
   "source": [
    "**I think it's safe to drop by visual inspection.  The timeframe is also very condensed - if we had a whole year, it would make more sense.**\n"
   ]
  },
  {
   "cell_type": "code",
   "execution_count": 31,
   "metadata": {},
   "outputs": [
    {
     "data": {
      "text/plain": [
       "(635, 257)"
      ]
     },
     "metadata": {},
     "output_type": "display_data"
    },
    {
     "data": {
      "text/plain": [
       "(2476, 257)"
      ]
     },
     "metadata": {},
     "output_type": "display_data"
    }
   ],
   "source": [
    "# Manually split into test/train sets\n",
    "test_data = dfa[dfa.SALE_DATE.dt.month == 4].drop(columns='SALE_DATE')\n",
    "training_data = dfa[dfa.SALE_DATE.dt.month.isin(range(1,4))].drop(columns='SALE_DATE')\n",
    "display(test_data.shape, training_data.shape)"
   ]
  },
  {
   "cell_type": "code",
   "execution_count": 32,
   "metadata": {},
   "outputs": [
    {
     "data": {
      "text/plain": [
       "(2476, 256)"
      ]
     },
     "metadata": {},
     "output_type": "display_data"
    },
    {
     "data": {
      "text/plain": [
       "(2476,)"
      ]
     },
     "metadata": {},
     "output_type": "display_data"
    },
    {
     "data": {
      "text/plain": [
       "(635, 256)"
      ]
     },
     "metadata": {},
     "output_type": "display_data"
    },
    {
     "data": {
      "text/plain": [
       "(635,)"
      ]
     },
     "metadata": {},
     "output_type": "display_data"
    }
   ],
   "source": [
    "# This is potentially a good spot to start feature selection, standardization (where necessary), and regression\n",
    "target = 'SALE_PRICE'\n",
    "\n",
    "def return_feat_target(df, target):\n",
    "    return df.drop(columns=target), df[target]\n",
    "\n",
    "\n",
    "X_train, y_train = return_feat_target(training_data, target)\n",
    "X_test, y_test = return_feat_target(test_data, target)\n",
    "display(X_train.shape, y_train.shape, X_test.shape, y_test.shape)"
   ]
  },
  {
   "cell_type": "code",
   "execution_count": 45,
   "metadata": {},
   "outputs": [],
   "source": [
    "# Run model\n",
    "from sklearn import linear_model\n",
    "from sklearn.feature_selection import SelectKBest\n",
    "from sklearn.feature_selection import f_regression\n",
    "from sklearn.preprocessing import RobustScaler\n",
    "from sklearn.metrics import mean_squared_error, r2_score\n",
    "\n",
    "warnings.filterwarnings(action='ignore', category=RuntimeWarning)\n",
    "\n",
    "def linear_pipe(X_train, y_train, X_test, y_test, num_features):\n",
    "    '''\n",
    "    Select a number of features for SelectKBest to return.\n",
    "    Scale features with RobustScalar\n",
    "    Passes scaled features to linear model and fitted model\n",
    "    \n",
    "    Inputs:\n",
    "    X_train, y_train: Pandas DataFrame of feature training set and corresponding target set\n",
    "    X_test, y_test: Pandas DataFrame of feature test set and corresponding target set\n",
    "    num_features: integer number of features to pass to model\n",
    "    \n",
    "    Return fitted model\n",
    "    '''\n",
    "    def select_features(**kw):\n",
    "        # Create Selector and fit to training data\n",
    "        selector = SelectKBest(f_regression, k=num_features)\n",
    "        selector.fit(X_train, y_train)\n",
    "        # Get columns to keep\n",
    "        cols = selector.get_support(indices=True)\n",
    "        # Create subsets of training and test data, return values\n",
    "        return X_train.iloc[:, lambda df: cols],  X_test.iloc[:, lambda df: cols]\n",
    "    \n",
    "    def scale_features(X_train_selected, X_test_selected):\n",
    "        # Create scalar\n",
    "        scaler = RobustScaler()\n",
    "        # Scale & Transform Features, return value\n",
    "        scaler.fit(X_train_selected.to_numpy())\n",
    "        return scaler.transform(X_train_selected.to_numpy()), scaler.transform(X_test_selected.to_numpy())\n",
    "    \n",
    "    def generate_model(features, target):\n",
    "        regr = linear_model.LinearRegression()\n",
    "        return regr.fit(features, target)\n",
    "    \n",
    "    def evaluate_model(model, X_test_selected):\n",
    "        y_pred = model.predict(X_test_selected)\n",
    "        eval_info = {\n",
    "            'coefficients': model.coef_,\n",
    "            'mse': mean_squared_error(y_test, y_pred),\n",
    "            'r2': r2_score(y_test, y_pred)\n",
    "        }\n",
    "        return eval_info\n",
    "        \n",
    "        \n",
    "    \n",
    "    X_train_selected, X_test_selected = select_features()\n",
    "    X_train_scaled, X_test_scaled = scale_features(X_train_selected, X_test_selected)\n",
    "    model = generate_model(features=X_train_scaled, target=y_train)\n",
    "    eval_info = evaluate_model(model, X_test_scaled)\n",
    "    \n",
    "    return model, eval_info\n",
    "    \n",
    "    \n"
   ]
  },
  {
   "cell_type": "code",
   "execution_count": 47,
   "metadata": {},
   "outputs": [
    {
     "data": {
      "text/plain": [
       "{'coefficients': array([ 40558.37986598, 110073.10768369]),\n",
       " 'mse': 67842203721.260345,\n",
       " 'r2': 0.22021951472359935}"
      ]
     },
     "execution_count": 47,
     "metadata": {},
     "output_type": "execute_result"
    }
   ],
   "source": [
    "_, info = linear_pipe(X_train, y_train, X_test, y_test, 2)\n",
    "info"
   ]
  },
  {
   "cell_type": "code",
   "execution_count": 90,
   "metadata": {},
   "outputs": [],
   "source": [
    "from math import log\n",
    "model_evals = []\n",
    "for i in range(1,30):\n",
    "    _, info = linear_pipe(X_train, y_train, X_test, y_test, i)\n",
    "    model_evals.append([info['r2'], info['mse']])\n",
    "    \n",
    "model_evals = pd.DataFrame(model_evals)"
   ]
  },
  {
   "cell_type": "code",
   "execution_count": 96,
   "metadata": {},
   "outputs": [
    {
     "name": "stdout",
     "output_type": "stream",
     "text": [
      "lowest MSE: 51703750720.76791\n"
     ]
    },
    {
     "data": {
      "image/png": "[encoded data removed]",
      "text/plain": [
       "<Figure size 432x288 with 1 Axes>"
      ]
     },
     "metadata": {
      "needs_background": "light"
     },
     "output_type": "display_data"
    }
   ],
   "source": [
    "model_evals[0].plot()\n",
    "print('lowest MSE:', model_evals[1].min())"
   ]
  },
  {
   "cell_type": "markdown",
   "metadata": {},
   "source": [
    "**I really like the pipeline.  It seems to be working and I could easily adjust it to print the feature columns.  Unfortunately, it looks like we plataeu a little below 0.40 without optimization or further cleaning.  Just to see, what was the baseline prediction?**"
   ]
  },
  {
   "cell_type": "code",
   "execution_count": 69,
   "metadata": {},
   "outputs": [
    {
     "data": {
      "text/plain": [
       "87001669062.30415"
      ]
     },
     "metadata": {},
     "output_type": "display_data"
    },
    {
     "data": {
      "text/plain": [
       "0.0"
      ]
     },
     "metadata": {},
     "output_type": "display_data"
    }
   ],
   "source": [
    "# Testing the mean\n",
    "y_pred = [y_test.mean()]*len(y_test)\n",
    "display(mean_squared_error(y_test, y_pred),\n",
    "       r2_score(y_test, y_pred)\n",
    "       )"
   ]
  },
  {
   "cell_type": "code",
   "execution_count": null,
   "metadata": {},
   "outputs": [],
   "source": []
  },
  {
   "cell_type": "markdown",
   "metadata": {},
   "source": []
  }
 ],
 "metadata": {
  "colab": {
   "collapsed_sections": [],
   "name": "assignment_regression_classification_3.ipynb",
   "provenance": [],
   "version": "0.3.2"
  },
  "kernelspec": {
   "display_name": "Python 3",
   "language": "python",
   "name": "python3"
  },
  "language_info": {
   "codemirror_mode": {
    "name": "ipython",
    "version": 3
   },
   "file_extension": ".py",
   "mimetype": "text/x-python",
   "name": "python",
   "nbconvert_exporter": "python",
   "pygments_lexer": "ipython3",
   "version": "3.7.3"
  }
 },
 "nbformat": 4,
 "nbformat_minor": 4
}
