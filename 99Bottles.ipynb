{
 "cells": [
  {
   "cell_type": "markdown",
   "metadata": {
    "colab_type": "text",
    "id": "iDChYWqq65Us"
   },
   "source": [
    "### Create a Python project that prints out every line of the song \"99 bottles of (whatever you want) on the wall.\"\n",
    "#### Note: Try to use a built in function instead of manually type all the lines."
   ]
  },
  {
   "cell_type": "code",
   "execution_count": 20,
   "metadata": {
    "colab": {},
    "colab_type": "code",
    "id": "cnYsGl3j60KR"
   },
   "outputs": [],
   "source": [
    "# Your code goes here\n",
    "\n",
    "lyric_a = \"{} bottles of beer on the wall,\\n {} bottles of beer,\"\n",
    "lyric_b = \"Take one down, \\n Pass it around.\\n  {} bottles of beer on the wall\""
   ]
  },
  {
   "cell_type": "code",
   "execution_count": 21,
   "metadata": {},
   "outputs": [
    {
     "name": "stdout",
     "output_type": "stream",
     "text": [
      "10 bottles of beer on the wall,\n",
      " 10 bottles of beer,\n",
      "Take one down, \n",
      " Pass it around.\n",
      "  9 bottles of beer on the wall\n",
      "\n",
      "9 bottles of beer on the wall,\n",
      " 9 bottles of beer,\n",
      "Take one down, \n",
      " Pass it around.\n",
      "  8 bottles of beer on the wall\n",
      "\n",
      "8 bottles of beer on the wall,\n",
      " 8 bottles of beer,\n",
      "Take one down, \n",
      " Pass it around.\n",
      "  7 bottles of beer on the wall\n",
      "\n",
      "7 bottles of beer on the wall,\n",
      " 7 bottles of beer,\n",
      "Take one down, \n",
      " Pass it around.\n",
      "  6 bottles of beer on the wall\n",
      "\n",
      "6 bottles of beer on the wall,\n",
      " 6 bottles of beer,\n",
      "Take one down, \n",
      " Pass it around.\n",
      "  5 bottles of beer on the wall\n",
      "\n",
      "5 bottles of beer on the wall,\n",
      " 5 bottles of beer,\n",
      "Take one down, \n",
      " Pass it around.\n",
      "  4 bottles of beer on the wall\n",
      "\n",
      "4 bottles of beer on the wall,\n",
      " 4 bottles of beer,\n",
      "Take one down, \n",
      " Pass it around.\n",
      "  3 bottles of beer on the wall\n",
      "\n",
      "3 bottles of beer on the wall,\n",
      " 3 bottles of beer,\n",
      "Take one down, \n",
      " Pass it around.\n",
      "  2 bottles of beer on the wall\n",
      "\n",
      "2 bottles of beer on the wall,\n",
      " 2 bottles of beer,\n",
      "Take one down, \n",
      " Pass it around.\n",
      "  1 bottles of beer on the wall\n",
      "\n"
     ]
    }
   ],
   "source": [
    "for bottles in range(10,1,-1):\n",
    "    print(lyric_a.format(bottles, bottles))\n",
    "    print(lyric_b.format(bottles-1))\n",
    "    print('')"
   ]
  },
  {
   "cell_type": "code",
   "execution_count": null,
   "metadata": {},
   "outputs": [],
   "source": []
  }
 ],
 "metadata": {
  "colab": {
   "name": "99Bottles.ipynb",
   "provenance": [],
   "version": "0.3.2"
  },
  "kernelspec": {
   "display_name": "Python 3",
   "language": "python",
   "name": "python3"
  },
  "language_info": {
   "codemirror_mode": {
    "name": "ipython",
    "version": 3
   },
   "file_extension": ".py",
   "mimetype": "text/x-python",
   "name": "python",
   "nbconvert_exporter": "python",
   "pygments_lexer": "ipython3",
   "version": "3.6.8"
  }
 },
 "nbformat": 4,
 "nbformat_minor": 1
}
